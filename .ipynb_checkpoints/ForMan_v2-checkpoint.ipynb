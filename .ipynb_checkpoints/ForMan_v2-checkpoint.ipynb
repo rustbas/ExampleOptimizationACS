{
 "cells": [
  {
   "cell_type": "markdown",
   "id": "f254b749",
   "metadata": {},
   "source": [
    "# Импорт библиотек\n",
    "\n",
    "- numpy — библиотека для работы с матрицами больших размерностей\n",
    "- scipy — библиотека для выполнения научных и инженерных расчётов, в том числе:\n",
    "    - odeint — функция численного интегрирования\n",
    "    - minimize — функция минимизации функции вида $y = y(x)$\n",
    "    - Bounds — функция создания класса Bounds для определения границ минимизации\n",
    "- matplotlib.pyplot — библиотека для построения графиков"
   ]
  },
  {
   "cell_type": "code",
   "execution_count": 14,
   "id": "bc041dd7",
   "metadata": {},
   "outputs": [],
   "source": [
    "import numpy as np # библиотека для работы с матрицами\n",
    "from scipy.integrate import odeint # функция численного интегрирования\n",
    "from scipy.optimize import minimize, Bounds # функции минимизации и создания границ\n",
    "import matplotlib.pyplot as plt # библиотека для построения графиков"
   ]
  },
  {
   "cell_type": "markdown",
   "id": "bb45cdc0",
   "metadata": {},
   "source": [
    "# 1. Описание динамической системы\n",
    "\n",
    "Необходимо создать функцию, которая описывает нижеописанную динамическую систему.\n",
    "\n",
    "$\n",
    "\\dot{X_0} = X_1 \\\\\n",
    "\\dot{X_1} = X_2 \\\\\n",
    "\\dot{X_2} = U_0 k_e k_1 k_2 - X_0 (k_1 k_2 k_e) - X_1   (k_4 - k_1   k_2   k_\\omega + k_1   k_e) - X_2   (k_3 - k_1   k_\\omega)\n",
    "$\n",
    "\n",
    "Ниже создана функция, которая возвращает левую часть системы, получая в качестве аргументов:\n",
    "- вектор $X$\n",
    "- время $t$\n",
    "- вектор параметров $P = \\{U_0, k_e, k_\\omega\\}$"
   ]
  },
  {
   "cell_type": "code",
   "execution_count": 15,
   "id": "ac6f5808",
   "metadata": {},
   "outputs": [],
   "source": [
    "# P - вектор параметров - (U0, k_e, k_omega)\n",
    "# функция системы ДУ\n",
    "def sys(X, t, P=(1,1,1)):\n",
    "    \n",
    "    # коэф-ты системы\n",
    "    k1 = 0.243846\n",
    "    k2 = 7.787699\n",
    "    k3 = 5.116065\n",
    "    k4 = 10.921166\n",
    "    \n",
    "    # система диф-ных ур-й\n",
    "    DX0 = X[1]\n",
    "    DX1 = X[2]\n",
    "    DX2 = P[0]*P[1]*k1*k2 - X[0]*(k1*k2*P[1]) - X[1] * (k4 - k1 * k2 * P[2] + k1 * P[1]) - X[2] * (k3 - k1 * P[2])\n",
    "    \n",
    "    return [DX0, DX1, DX2]"
   ]
  },
  {
   "cell_type": "markdown",
   "id": "bb3155ef",
   "metadata": {},
   "source": [
    "# 2. Создание функции, которая описывает критерий\n",
    "\n",
    "Ниже разрабатона функция, реализующая наш критерий, которая имеет вид:\n",
    "$$\n",
    "f: R^2 \\rightarrow R^1 \\\\\n",
    "$$\n",
    "\n",
    "То есть:\n",
    "$$\n",
    "f(k_e, k_\\omega) = \\int_0^T \\varepsilon^2(t)dt \\rightarrow \\min_{k_e, k_\\omega}, где \\ \\varepsilon(t) = X_0 (t) - U_0 = X_0 (t) -1\n",
    "$$"
   ]
  },
  {
   "cell_type": "code",
   "execution_count": 16,
   "id": "f8caf1cf",
   "metadata": {},
   "outputs": [],
   "source": [
    "# k - вектор коэф-ов - (k_e, k_omega)\n",
    "def model(k = (1,1)):\n",
    "    \n",
    "    U0 = 1\n",
    "    \n",
    "    Params = (U0,k[0],k[1])\n",
    "    \n",
    "    def sys(X, t, P):\n",
    "    \n",
    "        # коэф-ты системы\n",
    "        k1 = 0.243846\n",
    "        k2 = 7.787699\n",
    "        k3 = 5.116065\n",
    "        k4 = 10.921166\n",
    "\n",
    "        # система диф-ных ур-й\n",
    "        DX0 = X[1]\n",
    "        DX1 = X[2]\n",
    "        DX2 = P[0]*P[1]*k1*k2 - X[0]*(k1*k2*P[1]) - X[1] * (k4 - k1 * k2 * P[2] + k1 * P[1]) - X[2] * (k3 - k1 * P[2]);\n",
    "\n",
    "        return [DX0, DX1, DX2]\n",
    "    \n",
    "    t = np.linspace(0, 15, 10000) # вектор времени\n",
    "    X_init = [0, 0, 0]             # начальные условия\n",
    "    \n",
    "    X = np.transpose(odeint(sys, X_init, t, args=(Params,))) # решение СЛДУ и последующее траспонирование матрицы решений\n",
    "    \n",
    "    res = (X - U0)**2 # Вычитание упр-го сигнала и поэлементное возведение в квадрат\n",
    "    \n",
    "    return res.sum() # Суммирование всех элементов"
   ]
  },
  {
   "cell_type": "code",
   "execution_count": 17,
   "id": "4aae5d49",
   "metadata": {},
   "outputs": [
    {
     "data": {
      "text/plain": [
       "23181.8888959637"
      ]
     },
     "execution_count": 17,
     "metadata": {},
     "output_type": "execute_result"
    }
   ],
   "source": [
    "model((10,1))"
   ]
  },
  {
   "cell_type": "code",
   "execution_count": 18,
   "id": "10b50e8f",
   "metadata": {},
   "outputs": [
    {
     "data": {
      "text/plain": [
       "[<matplotlib.lines.Line2D at 0x7f5d20955910>]"
      ]
     },
     "execution_count": 18,
     "metadata": {},
     "output_type": "execute_result"
    },
    {
     "data": {
      "image/png": "[encoded data removed]",
      "text/plain": [
       "<Figure size 432x288 with 1 Axes>"
      ]
     },
     "metadata": {
      "needs_background": "light"
     },
     "output_type": "display_data"
    }
   ],
   "source": [
    "# Результат со случайными коэф-ми\n",
    "t = np.linspace(0, 15, 100000) # вектор времени\n",
    "X_init = [0, 0, 0]             # начальные условия\n",
    "P = [1, 10, 1] # вектор параметров - (U0, k_e, k_omega)\n",
    "X = np.transpose(odeint(sys, X_init, t, args=(P,))) # решение СЛДУ и последующее траспонирование матрицы решений\n",
    "plt.plot(t, X[0])"
   ]
  },
  {
   "cell_type": "markdown",
   "id": "376facc6",
   "metadata": {},
   "source": [
    "# 3. Минимизация \n",
    "## 3.1 Определение ограничений\n",
    "Предполагаются следующие ограничения:\n",
    "$$\n",
    "0.1 < k_e < 1000 \\\\\n",
    "0.1 < k_\\omega < 1000\n",
    "$$"
   ]
  },
  {
   "cell_type": "code",
   "execution_count": 19,
   "id": "07f7893f",
   "metadata": {},
   "outputs": [],
   "source": [
    "k_e_bottom = 0.1 # Нижнее ограничение по k_e\n",
    "k_e_upper = 1000 # Нижнее ограничение по k_omega\n",
    "k_omega_bottom = 0.1 # Верхнее ограничение по k_e\n",
    "k_omega_upper = 1000 # Верхнее ограничение по k_omega\n",
    "\n",
    "bounds = Bounds([k_e_bottom, k_omega_bottom], [k_e_upper, k_omega_upper])"
   ]
  },
  {
   "cell_type": "code",
   "execution_count": 20,
   "id": "7fa65236",
   "metadata": {},
   "outputs": [],
   "source": [
    "k0 = np.array([2, 1]) # Начальные условия"
   ]
  },
  {
   "cell_type": "code",
   "execution_count": 21,
   "id": "c8607dbb",
   "metadata": {},
   "outputs": [
    {
     "name": "stdout",
     "output_type": "stream",
     "text": [
      " barrier_parameter: 2.048000000000001e-09\n",
      " barrier_tolerance: 2.048000000000001e-09\n",
      "          cg_niter: 239\n",
      "      cg_stop_cond: 4\n",
      "            constr: [array([2.75367984, 0.6922541 ])]\n",
      "       constr_nfev: [0]\n",
      "       constr_nhev: [0]\n",
      "       constr_njev: [0]\n",
      "    constr_penalty: 1.0\n",
      "  constr_violation: 0.0\n",
      "    execution_time: 0.6507363319396973\n",
      "               fun: 19890.03405111095\n",
      "              grad: array([-6.33917365e-02,  1.35042554e+03])\n",
      "               jac: [<2x2 sparse matrix of type '<class 'numpy.float64'>'\n",
      "\twith 2 stored elements in Compressed Sparse Row format>]\n",
      "   lagrangian_grad: array([-5.55091212e-02,  3.50676701e+02])\n",
      "           message: '`xtol` termination condition is satisfied.'\n",
      "            method: 'tr_interior_point'\n",
      "              nfev: 354\n",
      "              nhev: 0\n",
      "               nit: 192\n",
      "             niter: 192\n",
      "              njev: 118\n",
      "        optimality: 350.6767006227466\n",
      "            status: 2\n",
      "           success: True\n",
      "         tr_radius: 1.0000000000000005e-09\n",
      "                 v: [array([ 7.88261531e-03, -9.99748836e+02])]\n",
      "                 x: array([2.75367984, 0.6922541 ])\n",
      "19901.792131166167\n"
     ]
    }
   ],
   "source": [
    "res = minimize(model, k0, method='trust-constr', bounds=bounds)\n",
    "print(res)\n",
    "print(model((2, 2)))"
   ]
  },
  {
   "cell_type": "markdown",
   "id": "0c79eb3a",
   "metadata": {},
   "source": [
    "# 4. Построение графика переходного процесса"
   ]
  },
  {
   "cell_type": "code",
   "execution_count": 22,
   "id": "1265fb3d",
   "metadata": {},
   "outputs": [],
   "source": [
    "# Построение результирующего графика\n",
    "t = np.linspace(0, 10, 10000) # вектор времени\n",
    "X_init = [0, 0, 0]             # начальные условия\n",
    "P = [1, res.x[0], res.x[1]] # вектор параметров - (U0, k_e, k_omega)\n",
    "X = np.transpose(odeint(sys, X_init, t, args=(P,))) # решение СЛДУ и последующее траспонирование матрицы решений"
   ]
  },
  {
   "cell_type": "code",
   "execution_count": 25,
   "id": "b6184f71",
   "metadata": {},
   "outputs": [
    {
     "data": {
      "image/png": "[encoded data removed]",
      "text/plain": [
       "<Figure size 1080x648 with 1 Axes>"
      ]
     },
     "metadata": {
      "needs_background": "light"
     },
     "output_type": "display_data"
    }
   ],
   "source": [
    "fig, ax = plt.subplots(figsize=(15, 9))\n",
    "ax.plot(t,X[0], label=\"$X_0(t)$\")\n",
    "ax.plot(t, np.full(10000, 1), label=\"U(t) = 1\")\n",
    "ax.legend(loc=\"lower right\", fontsize=25)\n",
    "ax.set_title(\"График переходного процесса при $k_e = {}, k_\\omega = {}$\".format(res.x[0], res.x[1]))\n",
    "ax.set_xlabel(\"Время $t$ [с]\")\n",
    "ax.set_ylabel(\"Значение функции\")\n",
    "ax.grid()"
   ]
  },
  {
   "cell_type": "markdown",
   "id": "98196164",
   "metadata": {},
   "source": [
    "# Вывод"
   ]
  },
  {
   "cell_type": "code",
   "execution_count": 24,
   "id": "5d5a2ea6",
   "metadata": {},
   "outputs": [
    {
     "name": "stdout",
     "output_type": "stream",
     "text": [
      "702 ms ± 7.23 ms per loop (mean ± std. dev. of 7 runs, 1 loop each)\n"
     ]
    }
   ],
   "source": [
    "%%timeit \n",
    " res = minimize(model, k0, method='trust-constr', bounds=bounds)"
   ]
  },
  {
   "cell_type": "markdown",
   "id": "9f5d1e5f",
   "metadata": {},
   "source": [
    "Можно заметить, что выполнение минимизации происходит весьма быстро, что показывает Python с библиотеками для научных расчетов неплохо подходит для выполнения оптимизации коэффициентов САУ по заданному критерию."
   ]
  }
 ],
 "metadata": {
  "kernelspec": {
   "display_name": "Python 3 (ipykernel)",
   "language": "python",
   "name": "python3"
  },
  "language_info": {
   "codemirror_mode": {
    "name": "ipython",
    "version": 3
   },
   "file_extension": ".py",
   "mimetype": "text/x-python",
   "name": "python",
   "nbconvert_exporter": "python",
   "pygments_lexer": "ipython3",
   "version": "3.9.7"
  }
 },
 "nbformat": 4,
 "nbformat_minor": 5
}
